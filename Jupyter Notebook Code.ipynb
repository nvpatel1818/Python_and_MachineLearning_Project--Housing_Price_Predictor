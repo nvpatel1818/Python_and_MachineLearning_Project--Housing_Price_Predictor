{
 "cells": [
  {
   "cell_type": "markdown",
   "id": "1e154303",
   "metadata": {},
   "source": [
    "# Falcon Real Estate- Housing Price Predictor\n",
    "## Supervised Regression Machine Learning Model Development\n",
    "### By Nishantkumar V Patel\n"
   ]
  },
  {
   "cell_type": "markdown",
   "id": "bad50abf",
   "metadata": {},
   "source": [
    "### 1. Loading and Overviewing the Dataset"
   ]
  },
  {
   "cell_type": "code",
   "execution_count": 1,
   "id": "5a2c468f",
   "metadata": {},
   "outputs": [],
   "source": [
    "import pandas as pd\n",
    "import numpy as np\n",
    "x=pd.read_csv(\"housing_data.csv\")     #I have taken the data from Boston_Housing_Dataset"
   ]
  },
  {
   "cell_type": "code",
   "execution_count": 2,
   "id": "f728f21d",
   "metadata": {},
   "outputs": [
    {
     "data": {
      "text/html": [
       "<div>\n",
       "<style scoped>\n",
       "    .dataframe tbody tr th:only-of-type {\n",
       "        vertical-align: middle;\n",
       "    }\n",
       "\n",
       "    .dataframe tbody tr th {\n",
       "        vertical-align: top;\n",
       "    }\n",
       "\n",
       "    .dataframe thead th {\n",
       "        text-align: right;\n",
       "    }\n",
       "</style>\n",
       "<table border=\"1\" class=\"dataframe\">\n",
       "  <thead>\n",
       "    <tr style=\"text-align: right;\">\n",
       "      <th></th>\n",
       "      <th>CRIM</th>\n",
       "      <th>ZN</th>\n",
       "      <th>INDUS</th>\n",
       "      <th>CHAS</th>\n",
       "      <th>NOX</th>\n",
       "      <th>RM</th>\n",
       "      <th>AGE</th>\n",
       "      <th>DIS</th>\n",
       "      <th>RAD</th>\n",
       "      <th>TAX</th>\n",
       "      <th>PTRATIO</th>\n",
       "      <th>B</th>\n",
       "      <th>LSTAT</th>\n",
       "      <th>MEDV</th>\n",
       "    </tr>\n",
       "  </thead>\n",
       "  <tbody>\n",
       "    <tr>\n",
       "      <th>0</th>\n",
       "      <td>0.00632</td>\n",
       "      <td>18.0</td>\n",
       "      <td>2.31</td>\n",
       "      <td>0</td>\n",
       "      <td>0.538</td>\n",
       "      <td>6.575</td>\n",
       "      <td>65.2</td>\n",
       "      <td>4.0900</td>\n",
       "      <td>1</td>\n",
       "      <td>296</td>\n",
       "      <td>15.3</td>\n",
       "      <td>396.90</td>\n",
       "      <td>4.98</td>\n",
       "      <td>24.0</td>\n",
       "    </tr>\n",
       "    <tr>\n",
       "      <th>1</th>\n",
       "      <td>0.02731</td>\n",
       "      <td>0.0</td>\n",
       "      <td>7.07</td>\n",
       "      <td>0</td>\n",
       "      <td>0.469</td>\n",
       "      <td>6.421</td>\n",
       "      <td>78.9</td>\n",
       "      <td>4.9671</td>\n",
       "      <td>2</td>\n",
       "      <td>242</td>\n",
       "      <td>17.8</td>\n",
       "      <td>396.90</td>\n",
       "      <td>9.14</td>\n",
       "      <td>21.6</td>\n",
       "    </tr>\n",
       "    <tr>\n",
       "      <th>2</th>\n",
       "      <td>0.02729</td>\n",
       "      <td>0.0</td>\n",
       "      <td>7.07</td>\n",
       "      <td>0</td>\n",
       "      <td>0.469</td>\n",
       "      <td>7.185</td>\n",
       "      <td>61.1</td>\n",
       "      <td>4.9671</td>\n",
       "      <td>2</td>\n",
       "      <td>242</td>\n",
       "      <td>17.8</td>\n",
       "      <td>392.83</td>\n",
       "      <td>4.03</td>\n",
       "      <td>34.7</td>\n",
       "    </tr>\n",
       "    <tr>\n",
       "      <th>3</th>\n",
       "      <td>0.03237</td>\n",
       "      <td>0.0</td>\n",
       "      <td>2.18</td>\n",
       "      <td>0</td>\n",
       "      <td>0.458</td>\n",
       "      <td>6.998</td>\n",
       "      <td>45.8</td>\n",
       "      <td>6.0622</td>\n",
       "      <td>3</td>\n",
       "      <td>222</td>\n",
       "      <td>18.7</td>\n",
       "      <td>394.63</td>\n",
       "      <td>2.94</td>\n",
       "      <td>33.4</td>\n",
       "    </tr>\n",
       "    <tr>\n",
       "      <th>4</th>\n",
       "      <td>0.06905</td>\n",
       "      <td>0.0</td>\n",
       "      <td>2.18</td>\n",
       "      <td>0</td>\n",
       "      <td>0.458</td>\n",
       "      <td>7.147</td>\n",
       "      <td>54.2</td>\n",
       "      <td>6.0622</td>\n",
       "      <td>3</td>\n",
       "      <td>222</td>\n",
       "      <td>18.7</td>\n",
       "      <td>396.90</td>\n",
       "      <td>5.33</td>\n",
       "      <td>36.2</td>\n",
       "    </tr>\n",
       "  </tbody>\n",
       "</table>\n",
       "</div>"
      ],
      "text/plain": [
       "      CRIM    ZN  INDUS  CHAS    NOX     RM   AGE     DIS  RAD  TAX  PTRATIO  \\\n",
       "0  0.00632  18.0   2.31     0  0.538  6.575  65.2  4.0900    1  296     15.3   \n",
       "1  0.02731   0.0   7.07     0  0.469  6.421  78.9  4.9671    2  242     17.8   \n",
       "2  0.02729   0.0   7.07     0  0.469  7.185  61.1  4.9671    2  242     17.8   \n",
       "3  0.03237   0.0   2.18     0  0.458  6.998  45.8  6.0622    3  222     18.7   \n",
       "4  0.06905   0.0   2.18     0  0.458  7.147  54.2  6.0622    3  222     18.7   \n",
       "\n",
       "        B  LSTAT  MEDV  \n",
       "0  396.90   4.98  24.0  \n",
       "1  396.90   9.14  21.6  \n",
       "2  392.83   4.03  34.7  \n",
       "3  394.63   2.94  33.4  \n",
       "4  396.90   5.33  36.2  "
      ]
     },
     "execution_count": 2,
     "metadata": {},
     "output_type": "execute_result"
    }
   ],
   "source": [
    "x.head()  #to take the just overview of the dataset"
   ]
  },
  {
   "cell_type": "code",
   "execution_count": 3,
   "id": "49875798",
   "metadata": {},
   "outputs": [
    {
     "name": "stdout",
     "output_type": "stream",
     "text": [
      "<class 'pandas.core.frame.DataFrame'>\n",
      "RangeIndex: 506 entries, 0 to 505\n",
      "Data columns (total 14 columns):\n",
      " #   Column   Non-Null Count  Dtype  \n",
      "---  ------   --------------  -----  \n",
      " 0   CRIM     505 non-null    float64\n",
      " 1   ZN       505 non-null    float64\n",
      " 2   INDUS    504 non-null    float64\n",
      " 3   CHAS     506 non-null    int64  \n",
      " 4   NOX      505 non-null    float64\n",
      " 5   RM       503 non-null    float64\n",
      " 6   AGE      505 non-null    float64\n",
      " 7   DIS      505 non-null    float64\n",
      " 8   RAD      506 non-null    int64  \n",
      " 9   TAX      506 non-null    int64  \n",
      " 10  PTRATIO  505 non-null    float64\n",
      " 11  B        506 non-null    float64\n",
      " 12  LSTAT    504 non-null    float64\n",
      " 13  MEDV     506 non-null    float64\n",
      "dtypes: float64(11), int64(3)\n",
      "memory usage: 55.5 KB\n"
     ]
    }
   ],
   "source": [
    "x.info()  #to determine wheter any null values present in dataset or not..."
   ]
  },
  {
   "cell_type": "code",
   "execution_count": 4,
   "id": "d0bb8354",
   "metadata": {},
   "outputs": [],
   "source": [
    "from matplotlib import pyplot as plt"
   ]
  },
  {
   "cell_type": "code",
   "execution_count": 5,
   "id": "e0caddef",
   "metadata": {},
   "outputs": [
    {
     "data": {
      "text/plain": [
       "array([[<AxesSubplot:title={'center':'CRIM'}>,\n",
       "        <AxesSubplot:title={'center':'ZN'}>,\n",
       "        <AxesSubplot:title={'center':'INDUS'}>,\n",
       "        <AxesSubplot:title={'center':'CHAS'}>],\n",
       "       [<AxesSubplot:title={'center':'NOX'}>,\n",
       "        <AxesSubplot:title={'center':'RM'}>,\n",
       "        <AxesSubplot:title={'center':'AGE'}>,\n",
       "        <AxesSubplot:title={'center':'DIS'}>],\n",
       "       [<AxesSubplot:title={'center':'RAD'}>,\n",
       "        <AxesSubplot:title={'center':'TAX'}>,\n",
       "        <AxesSubplot:title={'center':'PTRATIO'}>,\n",
       "        <AxesSubplot:title={'center':'B'}>],\n",
       "       [<AxesSubplot:title={'center':'LSTAT'}>,\n",
       "        <AxesSubplot:title={'center':'MEDV'}>, <AxesSubplot:>,\n",
       "        <AxesSubplot:>]], dtype=object)"
      ]
     },
     "execution_count": 5,
     "metadata": {},
     "output_type": "execute_result"
    },
    {
     "data": {
      "image/png": "[encoded data removed]",
      "text/plain": [
       "<Figure size 1800x1440 with 16 Axes>"
      ]
     },
     "metadata": {
      "needs_background": "light"
     },
     "output_type": "display_data"
    }
   ],
   "source": [
    "x.hist(bins=50, figsize=(25,20))   #to plot the hisrogram for each features"
   ]
  },
  {
   "cell_type": "markdown",
   "id": "302ff711",
   "metadata": {},
   "source": [
    "### 2. Fixing the Null Values"
   ]
  },
  {
   "cell_type": "code",
   "execution_count": 6,
   "id": "f59751ff",
   "metadata": {},
   "outputs": [
    {
     "name": "stdout",
     "output_type": "stream",
     "text": [
      "<class 'pandas.core.frame.DataFrame'>\n",
      "RangeIndex: 506 entries, 0 to 505\n",
      "Data columns (total 14 columns):\n",
      " #   Column   Non-Null Count  Dtype  \n",
      "---  ------   --------------  -----  \n",
      " 0   CRIM     506 non-null    float64\n",
      " 1   ZN       506 non-null    float64\n",
      " 2   INDUS    506 non-null    float64\n",
      " 3   CHAS     506 non-null    float64\n",
      " 4   NOX      506 non-null    float64\n",
      " 5   RM       506 non-null    float64\n",
      " 6   AGE      506 non-null    float64\n",
      " 7   DIS      506 non-null    float64\n",
      " 8   RAD      506 non-null    float64\n",
      " 9   TAX      506 non-null    float64\n",
      " 10  PTRATIO  506 non-null    float64\n",
      " 11  B        506 non-null    float64\n",
      " 12  LSTAT    506 non-null    float64\n",
      " 13  MEDV     506 non-null    float64\n",
      "dtypes: float64(14)\n",
      "memory usage: 55.5 KB\n"
     ]
    }
   ],
   "source": [
    "from sklearn.impute import SimpleImputer\n",
    "imputer=SimpleImputer(strategy=\"median\") #substitute the null values with strategy of the respective column/feature median\n",
    "imputer.fit(x)\n",
    "xx=imputer.transform(x)\n",
    "x=pd.DataFrame(xx, columns=x.columns)\n",
    "x.info() #now there is no null values left into dataset."
   ]
  },
  {
   "cell_type": "markdown",
   "id": "cdc11733",
   "metadata": {},
   "source": [
    "### 3. Train Test Splitting"
   ]
  },
  {
   "cell_type": "code",
   "execution_count": 7,
   "id": "74c777bc",
   "metadata": {},
   "outputs": [],
   "source": [
    "from sklearn.model_selection import train_test_split"
   ]
  },
  {
   "cell_type": "code",
   "execution_count": 8,
   "id": "79222c88",
   "metadata": {},
   "outputs": [
    {
     "name": "stdout",
     "output_type": "stream",
     "text": [
      "train_set=404\n",
      "test_set=102\n"
     ]
    }
   ],
   "source": [
    "train_set, test_set=train_test_split(x, test_size=0.2, random_state=42)  #I have taken the test set proportion of 20%and 80% for training for each features.\n",
    "print(f\"train_set={len(train_set)}\\ntest_set={len(test_set)}\")"
   ]
  },
  {
   "cell_type": "code",
   "execution_count": 9,
   "id": "c13660a1",
   "metadata": {},
   "outputs": [],
   "source": [
    "from sklearn.model_selection import StratifiedShuffleSplit \n",
    "\n",
    "# CHAS is categorical or classified feature.\n",
    "#So, it is important to fairly distributes the datapoints of CHAS feature which is categorical features for both train and test set."
   ]
  },
  {
   "cell_type": "code",
   "execution_count": 10,
   "id": "7951b5fe",
   "metadata": {},
   "outputs": [],
   "source": [
    "split=StratifiedShuffleSplit(n_splits=1, test_size=0.2, random_state=42)\n",
    "\n",
    "for train_index, test_index in split.split(x, x[\"CHAS\"]):\n",
    "    strat_train_set= x.loc[train_index]\n",
    "    strat_test_set= x.loc[test_index]"
   ]
  },
  {
   "cell_type": "code",
   "execution_count": 11,
   "id": "3844a1fe",
   "metadata": {},
   "outputs": [
    {
     "data": {
      "text/html": [
       "<div>\n",
       "<style scoped>\n",
       "    .dataframe tbody tr th:only-of-type {\n",
       "        vertical-align: middle;\n",
       "    }\n",
       "\n",
       "    .dataframe tbody tr th {\n",
       "        vertical-align: top;\n",
       "    }\n",
       "\n",
       "    .dataframe thead th {\n",
       "        text-align: right;\n",
       "    }\n",
       "</style>\n",
       "<table border=\"1\" class=\"dataframe\">\n",
       "  <thead>\n",
       "    <tr style=\"text-align: right;\">\n",
       "      <th></th>\n",
       "      <th>CRIM</th>\n",
       "      <th>ZN</th>\n",
       "      <th>INDUS</th>\n",
       "      <th>CHAS</th>\n",
       "      <th>NOX</th>\n",
       "      <th>RM</th>\n",
       "      <th>AGE</th>\n",
       "      <th>DIS</th>\n",
       "      <th>RAD</th>\n",
       "      <th>TAX</th>\n",
       "      <th>PTRATIO</th>\n",
       "      <th>B</th>\n",
       "      <th>LSTAT</th>\n",
       "      <th>MEDV</th>\n",
       "    </tr>\n",
       "  </thead>\n",
       "  <tbody>\n",
       "    <tr>\n",
       "      <th>count</th>\n",
       "      <td>506.000000</td>\n",
       "      <td>506.000000</td>\n",
       "      <td>506.000000</td>\n",
       "      <td>506.000000</td>\n",
       "      <td>506.000000</td>\n",
       "      <td>506.000000</td>\n",
       "      <td>506.000000</td>\n",
       "      <td>506.000000</td>\n",
       "      <td>506.000000</td>\n",
       "      <td>506.000000</td>\n",
       "      <td>506.000000</td>\n",
       "      <td>506.000000</td>\n",
       "      <td>506.000000</td>\n",
       "      <td>506.000000</td>\n",
       "    </tr>\n",
       "    <tr>\n",
       "      <th>mean</th>\n",
       "      <td>3.605681</td>\n",
       "      <td>11.363636</td>\n",
       "      <td>11.134447</td>\n",
       "      <td>0.069170</td>\n",
       "      <td>0.554578</td>\n",
       "      <td>6.281304</td>\n",
       "      <td>68.616798</td>\n",
       "      <td>3.798327</td>\n",
       "      <td>9.549407</td>\n",
       "      <td>408.237154</td>\n",
       "      <td>18.453162</td>\n",
       "      <td>356.674032</td>\n",
       "      <td>12.656443</td>\n",
       "      <td>22.532806</td>\n",
       "    </tr>\n",
       "    <tr>\n",
       "      <th>std</th>\n",
       "      <td>8.602798</td>\n",
       "      <td>23.322453</td>\n",
       "      <td>6.843072</td>\n",
       "      <td>0.253994</td>\n",
       "      <td>0.115865</td>\n",
       "      <td>0.692954</td>\n",
       "      <td>28.146630</td>\n",
       "      <td>2.103503</td>\n",
       "      <td>8.707259</td>\n",
       "      <td>168.537116</td>\n",
       "      <td>2.163688</td>\n",
       "      <td>91.294864</td>\n",
       "      <td>7.138124</td>\n",
       "      <td>9.197104</td>\n",
       "    </tr>\n",
       "    <tr>\n",
       "      <th>min</th>\n",
       "      <td>0.006320</td>\n",
       "      <td>0.000000</td>\n",
       "      <td>0.460000</td>\n",
       "      <td>0.000000</td>\n",
       "      <td>0.385000</td>\n",
       "      <td>3.561000</td>\n",
       "      <td>2.900000</td>\n",
       "      <td>1.129600</td>\n",
       "      <td>1.000000</td>\n",
       "      <td>187.000000</td>\n",
       "      <td>12.600000</td>\n",
       "      <td>0.320000</td>\n",
       "      <td>1.730000</td>\n",
       "      <td>5.000000</td>\n",
       "    </tr>\n",
       "    <tr>\n",
       "      <th>25%</th>\n",
       "      <td>0.082045</td>\n",
       "      <td>0.000000</td>\n",
       "      <td>5.190000</td>\n",
       "      <td>0.000000</td>\n",
       "      <td>0.449000</td>\n",
       "      <td>5.887250</td>\n",
       "      <td>45.025000</td>\n",
       "      <td>2.101425</td>\n",
       "      <td>4.000000</td>\n",
       "      <td>279.000000</td>\n",
       "      <td>17.400000</td>\n",
       "      <td>375.377500</td>\n",
       "      <td>6.950000</td>\n",
       "      <td>17.025000</td>\n",
       "    </tr>\n",
       "    <tr>\n",
       "      <th>50%</th>\n",
       "      <td>0.253870</td>\n",
       "      <td>0.000000</td>\n",
       "      <td>9.690000</td>\n",
       "      <td>0.000000</td>\n",
       "      <td>0.538000</td>\n",
       "      <td>6.209000</td>\n",
       "      <td>77.700000</td>\n",
       "      <td>3.215700</td>\n",
       "      <td>5.000000</td>\n",
       "      <td>330.000000</td>\n",
       "      <td>19.000000</td>\n",
       "      <td>391.440000</td>\n",
       "      <td>11.360000</td>\n",
       "      <td>21.200000</td>\n",
       "    </tr>\n",
       "    <tr>\n",
       "      <th>75%</th>\n",
       "      <td>3.647423</td>\n",
       "      <td>12.500000</td>\n",
       "      <td>18.100000</td>\n",
       "      <td>0.000000</td>\n",
       "      <td>0.624000</td>\n",
       "      <td>6.618750</td>\n",
       "      <td>94.075000</td>\n",
       "      <td>5.188425</td>\n",
       "      <td>24.000000</td>\n",
       "      <td>666.000000</td>\n",
       "      <td>20.200000</td>\n",
       "      <td>396.225000</td>\n",
       "      <td>16.955000</td>\n",
       "      <td>25.000000</td>\n",
       "    </tr>\n",
       "    <tr>\n",
       "      <th>max</th>\n",
       "      <td>88.976200</td>\n",
       "      <td>100.000000</td>\n",
       "      <td>27.740000</td>\n",
       "      <td>1.000000</td>\n",
       "      <td>0.871000</td>\n",
       "      <td>8.725000</td>\n",
       "      <td>100.000000</td>\n",
       "      <td>12.126500</td>\n",
       "      <td>24.000000</td>\n",
       "      <td>711.000000</td>\n",
       "      <td>22.000000</td>\n",
       "      <td>396.900000</td>\n",
       "      <td>37.970000</td>\n",
       "      <td>50.000000</td>\n",
       "    </tr>\n",
       "  </tbody>\n",
       "</table>\n",
       "</div>"
      ],
      "text/plain": [
       "             CRIM          ZN       INDUS        CHAS         NOX          RM  \\\n",
       "count  506.000000  506.000000  506.000000  506.000000  506.000000  506.000000   \n",
       "mean     3.605681   11.363636   11.134447    0.069170    0.554578    6.281304   \n",
       "std      8.602798   23.322453    6.843072    0.253994    0.115865    0.692954   \n",
       "min      0.006320    0.000000    0.460000    0.000000    0.385000    3.561000   \n",
       "25%      0.082045    0.000000    5.190000    0.000000    0.449000    5.887250   \n",
       "50%      0.253870    0.000000    9.690000    0.000000    0.538000    6.209000   \n",
       "75%      3.647423   12.500000   18.100000    0.000000    0.624000    6.618750   \n",
       "max     88.976200  100.000000   27.740000    1.000000    0.871000    8.725000   \n",
       "\n",
       "              AGE         DIS         RAD         TAX     PTRATIO           B  \\\n",
       "count  506.000000  506.000000  506.000000  506.000000  506.000000  506.000000   \n",
       "mean    68.616798    3.798327    9.549407  408.237154   18.453162  356.674032   \n",
       "std     28.146630    2.103503    8.707259  168.537116    2.163688   91.294864   \n",
       "min      2.900000    1.129600    1.000000  187.000000   12.600000    0.320000   \n",
       "25%     45.025000    2.101425    4.000000  279.000000   17.400000  375.377500   \n",
       "50%     77.700000    3.215700    5.000000  330.000000   19.000000  391.440000   \n",
       "75%     94.075000    5.188425   24.000000  666.000000   20.200000  396.225000   \n",
       "max    100.000000   12.126500   24.000000  711.000000   22.000000  396.900000   \n",
       "\n",
       "            LSTAT        MEDV  \n",
       "count  506.000000  506.000000  \n",
       "mean    12.656443   22.532806  \n",
       "std      7.138124    9.197104  \n",
       "min      1.730000    5.000000  \n",
       "25%      6.950000   17.025000  \n",
       "50%     11.360000   21.200000  \n",
       "75%     16.955000   25.000000  \n",
       "max     37.970000   50.000000  "
      ]
     },
     "execution_count": 11,
     "metadata": {},
     "output_type": "execute_result"
    }
   ],
   "source": [
    "x.describe()"
   ]
  },
  {
   "cell_type": "code",
   "execution_count": 12,
   "id": "03d4436d",
   "metadata": {},
   "outputs": [
    {
     "name": "stdout",
     "output_type": "stream",
     "text": [
      "train_set for CHAS categorical feature:\n",
      " 0.0    376\n",
      "1.0     28\n",
      "Name: CHAS, dtype: int64\n",
      "test_set for CHAS categorical feature:\n",
      " 0.0    95\n",
      "1.0     7\n",
      "Name: CHAS, dtype: int64\n"
     ]
    }
   ],
   "source": [
    "print(\"train_set for CHAS categorical feature:\\n\", strat_train_set[\"CHAS\"].value_counts())\n",
    "print(\"test_set for CHAS categorical feature:\\n\", strat_test_set[\"CHAS\"].value_counts())"
   ]
  },
  {
   "cell_type": "markdown",
   "id": "13d7fcaa",
   "metadata": {},
   "source": [
    "### 4. Looking for Correlations"
   ]
  },
  {
   "cell_type": "code",
   "execution_count": 13,
   "id": "22fc15dc",
   "metadata": {},
   "outputs": [],
   "source": [
    "corr_matrix=x.corr()"
   ]
  },
  {
   "cell_type": "code",
   "execution_count": 14,
   "id": "e33b40f5",
   "metadata": {},
   "outputs": [
    {
     "data": {
      "text/plain": [
       "LSTAT     -0.737630\n",
       "PTRATIO   -0.508221\n",
       "INDUS     -0.480384\n",
       "TAX       -0.468536\n",
       "NOX       -0.426861\n",
       "CRIM      -0.387679\n",
       "RAD       -0.381626\n",
       "AGE       -0.377411\n",
       "CHAS       0.175260\n",
       "DIS        0.249403\n",
       "B          0.333461\n",
       "ZN         0.360445\n",
       "RM         0.704254\n",
       "MEDV       1.000000\n",
       "Name: MEDV, dtype: float64"
      ]
     },
     "execution_count": 14,
     "metadata": {},
     "output_type": "execute_result"
    }
   ],
   "source": [
    "corr_matrix[\"MEDV\"].sort_values() #looking for correlations of all features with respect to Label- MEDV..."
   ]
  },
  {
   "cell_type": "code",
   "execution_count": 15,
   "id": "54c66065",
   "metadata": {},
   "outputs": [
    {
     "name": "stdout",
     "output_type": "stream",
     "text": [
      "<matplotlib.collections.PathCollection object at 0x7fcb60515f10>\n"
     ]
    },
    {
     "data": {
      "image/png": "[encoded data removed]",
      "text/plain": [
       "<Figure size 432x288 with 1 Axes>"
      ]
     },
     "metadata": {
      "needs_background": "light"
     },
     "output_type": "display_data"
    }
   ],
   "source": [
    "print(plt.scatter(x[\"MEDV\"], x[\"LSTAT\"])) #LSTAT feature makes the strong negative correlation with MEDV price label."
   ]
  },
  {
   "cell_type": "code",
   "execution_count": 16,
   "id": "f99e032f",
   "metadata": {},
   "outputs": [
    {
     "name": "stdout",
     "output_type": "stream",
     "text": [
      "<matplotlib.collections.PathCollection object at 0x7fcb605e95b0>\n"
     ]
    },
    {
     "data": {
      "image/png": "[encoded data removed]",
      "text/plain": [
       "<Figure size 432x288 with 1 Axes>"
      ]
     },
     "metadata": {
      "needs_background": "light"
     },
     "output_type": "display_data"
    }
   ],
   "source": [
    "print(plt.scatter(x[\"MEDV\"], x[\"RM\"])) #RM feature makes the strong positive correlation with MEDV price label."
   ]
  },
  {
   "cell_type": "code",
   "execution_count": 17,
   "id": "d548290f",
   "metadata": {},
   "outputs": [],
   "source": [
    "x_features= strat_train_set.drop(\"MEDV\", axis=1)   #Seperating the features and labels from train dataset\n",
    "x_labels= strat_train_set[\"MEDV\"].copy()"
   ]
  },
  {
   "cell_type": "markdown",
   "id": "8e370a0d",
   "metadata": {},
   "source": [
    "### 5. Creating Pipeline"
   ]
  },
  {
   "cell_type": "code",
   "execution_count": 18,
   "id": "ab7939b4",
   "metadata": {},
   "outputs": [],
   "source": [
    "from sklearn.pipeline import Pipeline\n",
    "from sklearn.preprocessing import StandardScaler    #Standard Scaler is a class provided by Sklearn Module in Python.\n",
    "my_pipeline= Pipeline([(\"imputer\", SimpleImputer(strategy=\"median\")), (\"std_scaler\", StandardScaler()),])\n",
    "\n",
    "#Standard Scaler works-on by equation ((value-mean)/ standard deviation)."
   ]
  },
  {
   "cell_type": "code",
   "execution_count": 19,
   "id": "7e207ff1",
   "metadata": {},
   "outputs": [
    {
     "data": {
      "text/plain": [
       "array([[-0.43811632,  3.12628155, -1.12474383, ..., -0.97424379,\n",
       "         0.41164221, -0.86193848],\n",
       "       [-0.44221718,  3.12628155, -1.3627762 , ..., -0.6918948 ,\n",
       "         0.39131918, -0.94223675],\n",
       "       [ 0.15800499, -0.4898311 ,  0.98688082, ...,  0.81396648,\n",
       "         0.44624347,  0.81463405],\n",
       "       ...,\n",
       "       [-0.43395368, -0.4898311 , -1.23426793, ..., -0.22131315,\n",
       "         0.41831233, -1.27727437],\n",
       "       [ 0.14329236, -0.4898311 ,  0.98688082, ...,  0.81396648,\n",
       "        -3.15239177,  0.73848914],\n",
       "       [-0.43843643, -0.4898311 ,  0.37208554, ..., -0.97424379,\n",
       "         0.41070422,  0.09887187]])"
      ]
     },
     "execution_count": 19,
     "metadata": {},
     "output_type": "execute_result"
    }
   ],
   "source": [
    "x_features=my_pipeline.fit_transform(x_features)\n",
    "x_features #it is a numpy array."
   ]
  },
  {
   "cell_type": "markdown",
   "id": "3dd2522b",
   "metadata": {},
   "source": [
    "### 6. Searching best suitable  Model for Price Predictor \n",
    "\n",
    "#### Running each Model by Commenting-out other 2 models in out of below 3-cells."
   ]
  },
  {
   "cell_type": "code",
   "execution_count": 20,
   "id": "2b77afc9",
   "metadata": {},
   "outputs": [],
   "source": [
    "from sklearn.linear_model import LinearRegression   # Model No.1 Linear Regression\n",
    "model=LinearRegression()"
   ]
  },
  {
   "cell_type": "code",
   "execution_count": 21,
   "id": "562daebd",
   "metadata": {},
   "outputs": [],
   "source": [
    "from sklearn.tree import DecisionTreeRegressor   # 2) Model No.2 Decision Tree Regressor\n",
    "model=DecisionTreeRegressor()"
   ]
  },
  {
   "cell_type": "code",
   "execution_count": 22,
   "id": "8631b9a4",
   "metadata": {},
   "outputs": [],
   "source": [
    "from sklearn.ensemble import RandomForestRegressor   # 3) Model No.3 Random Forest Regressor\n",
    "model=RandomForestRegressor()"
   ]
  },
  {
   "cell_type": "code",
   "execution_count": 23,
   "id": "4c90d79a",
   "metadata": {},
   "outputs": [
    {
     "data": {
      "text/html": [
       "<style>#sk-container-id-1 {color: black;background-color: white;}#sk-container-id-1 pre{padding: 0;}#sk-container-id-1 div.sk-toggleable {background-color: white;}#sk-container-id-1 label.sk-toggleable__label {cursor: pointer;display: block;width: 100%;margin-bottom: 0;padding: 0.3em;box-sizing: border-box;text-align: center;}#sk-container-id-1 label.sk-toggleable__label-arrow:before {content: \"▸\";float: left;margin-right: 0.25em;color: #696969;}#sk-container-id-1 label.sk-toggleable__label-arrow:hover:before {color: black;}#sk-container-id-1 div.sk-estimator:hover label.sk-toggleable__label-arrow:before {color: black;}#sk-container-id-1 div.sk-toggleable__content {max-height: 0;max-width: 0;overflow: hidden;text-align: left;background-color: #f0f8ff;}#sk-container-id-1 div.sk-toggleable__content pre {margin: 0.2em;color: black;border-radius: 0.25em;background-color: #f0f8ff;}#sk-container-id-1 input.sk-toggleable__control:checked~div.sk-toggleable__content {max-height: 200px;max-width: 100%;overflow: auto;}#sk-container-id-1 input.sk-toggleable__control:checked~label.sk-toggleable__label-arrow:before {content: \"▾\";}#sk-container-id-1 div.sk-estimator input.sk-toggleable__control:checked~label.sk-toggleable__label {background-color: #d4ebff;}#sk-container-id-1 div.sk-label input.sk-toggleable__control:checked~label.sk-toggleable__label {background-color: #d4ebff;}#sk-container-id-1 input.sk-hidden--visually {border: 0;clip: rect(1px 1px 1px 1px);clip: rect(1px, 1px, 1px, 1px);height: 1px;margin: -1px;overflow: hidden;padding: 0;position: absolute;width: 1px;}#sk-container-id-1 div.sk-estimator {font-family: monospace;background-color: #f0f8ff;border: 1px dotted black;border-radius: 0.25em;box-sizing: border-box;margin-bottom: 0.5em;}#sk-container-id-1 div.sk-estimator:hover {background-color: #d4ebff;}#sk-container-id-1 div.sk-parallel-item::after {content: \"\";width: 100%;border-bottom: 1px solid gray;flex-grow: 1;}#sk-container-id-1 div.sk-label:hover label.sk-toggleable__label {background-color: #d4ebff;}#sk-container-id-1 div.sk-serial::before {content: \"\";position: absolute;border-left: 1px solid gray;box-sizing: border-box;top: 0;bottom: 0;left: 50%;z-index: 0;}#sk-container-id-1 div.sk-serial {display: flex;flex-direction: column;align-items: center;background-color: white;padding-right: 0.2em;padding-left: 0.2em;position: relative;}#sk-container-id-1 div.sk-item {position: relative;z-index: 1;}#sk-container-id-1 div.sk-parallel {display: flex;align-items: stretch;justify-content: center;background-color: white;position: relative;}#sk-container-id-1 div.sk-item::before, #sk-container-id-1 div.sk-parallel-item::before {content: \"\";position: absolute;border-left: 1px solid gray;box-sizing: border-box;top: 0;bottom: 0;left: 50%;z-index: -1;}#sk-container-id-1 div.sk-parallel-item {display: flex;flex-direction: column;z-index: 1;position: relative;background-color: white;}#sk-container-id-1 div.sk-parallel-item:first-child::after {align-self: flex-end;width: 50%;}#sk-container-id-1 div.sk-parallel-item:last-child::after {align-self: flex-start;width: 50%;}#sk-container-id-1 div.sk-parallel-item:only-child::after {width: 0;}#sk-container-id-1 div.sk-dashed-wrapped {border: 1px dashed gray;margin: 0 0.4em 0.5em 0.4em;box-sizing: border-box;padding-bottom: 0.4em;background-color: white;}#sk-container-id-1 div.sk-label label {font-family: monospace;font-weight: bold;display: inline-block;line-height: 1.2em;}#sk-container-id-1 div.sk-label-container {text-align: center;}#sk-container-id-1 div.sk-container {/* jupyter's `normalize.less` sets `[hidden] { display: none; }` but bootstrap.min.css set `[hidden] { display: none !important; }` so we also need the `!important` here to be able to override the default hidden behavior on the sphinx rendered scikit-learn.org. See: https://github.com/scikit-learn/scikit-learn/issues/21755 */display: inline-block !important;position: relative;}#sk-container-id-1 div.sk-text-repr-fallback {display: none;}</style><div id=\"sk-container-id-1\" class=\"sk-top-container\"><div class=\"sk-text-repr-fallback\"><pre>RandomForestRegressor()</pre><b>In a Jupyter environment, please rerun this cell to show the HTML representation or trust the notebook. <br />On GitHub, the HTML representation is unable to render, please try loading this page with nbviewer.org.</b></div><div class=\"sk-container\" hidden><div class=\"sk-item\"><div class=\"sk-estimator sk-toggleable\"><input class=\"sk-toggleable__control sk-hidden--visually\" id=\"sk-estimator-id-1\" type=\"checkbox\" checked><label for=\"sk-estimator-id-1\" class=\"sk-toggleable__label sk-toggleable__label-arrow\">RandomForestRegressor</label><div class=\"sk-toggleable__content\"><pre>RandomForestRegressor()</pre></div></div></div></div></div>"
      ],
      "text/plain": [
       "RandomForestRegressor()"
      ]
     },
     "execution_count": 23,
     "metadata": {},
     "output_type": "execute_result"
    }
   ],
   "source": [
    "model.fit(x_features, x_labels)  #feeding features and lables of our well prepared dataset into Model"
   ]
  },
  {
   "cell_type": "markdown",
   "id": "22378eb4",
   "metadata": {},
   "source": [
    "### 7. Evaluating the Different Models"
   ]
  },
  {
   "cell_type": "code",
   "execution_count": 24,
   "id": "e211edbe",
   "metadata": {},
   "outputs": [
    {
     "name": "stderr",
     "output_type": "stream",
     "text": [
      "/Users/jamesbond/Downloads/anaconda3/lib/python3.9/site-packages/sklearn/base.py:450: UserWarning: X does not have valid feature names, but SimpleImputer was fitted with feature names\n",
      "  warnings.warn(\n"
     ]
    },
    {
     "data": {
      "text/plain": [
       "[21.9, 24.5, 16.7, 23.1, 23.0]"
      ]
     },
     "execution_count": 24,
     "metadata": {},
     "output_type": "execute_result"
    }
   ],
   "source": [
    "x_features=pd.DataFrame(x_features)\n",
    "some_data=x_features.iloc[:5]\n",
    "some_labels=x_labels.iloc[:5]\n",
    "prepared_data=my_pipeline.transform(some_data)\n",
    "model.predict(prepared_data)\n",
    "list(some_labels)"
   ]
  },
  {
   "cell_type": "code",
   "execution_count": 25,
   "id": "a3681e04",
   "metadata": {},
   "outputs": [],
   "source": [
    "from sklearn.metrics import mean_squared_error \n",
    "x_predictions=model.predict(x_features) #Predicting Root/Mean-Squared-Error (RMSE/MSE) of applied Model for our well prepared dataset.\n",
    "linear_MSE=mean_squared_error(x_labels, x_predictions)\n",
    "linear_RMSE= np.sqrt(linear_MSE)"
   ]
  },
  {
   "cell_type": "code",
   "execution_count": 26,
   "id": "be005de1",
   "metadata": {},
   "outputs": [
    {
     "data": {
      "text/plain": [
       "1.1478496566007297"
      ]
     },
     "execution_count": 26,
     "metadata": {},
     "output_type": "execute_result"
    }
   ],
   "source": [
    "linear_RMSE "
   ]
  },
  {
   "cell_type": "code",
   "execution_count": 27,
   "id": "7a09fd00",
   "metadata": {},
   "outputs": [],
   "source": [
    "from sklearn.model_selection import cross_val_score  #using the Cross-Validation technique\n",
    "scores=cross_val_score(model, x_features, x_labels, scoring=\"neg_mean_squared_error\", cv=10)\n",
    "RMSE_scores=np.sqrt(-scores)"
   ]
  },
  {
   "cell_type": "code",
   "execution_count": 28,
   "id": "28be8e9a",
   "metadata": {},
   "outputs": [
    {
     "data": {
      "text/plain": [
       "array([2.91903795, 2.9062953 , 3.13324479, 2.52920333, 3.62505493,\n",
       "       2.6896593 , 4.78268543, 3.28438552, 3.47041866, 3.09987356])"
      ]
     },
     "execution_count": 28,
     "metadata": {},
     "output_type": "execute_result"
    }
   ],
   "source": [
    "RMSE_scores"
   ]
  },
  {
   "cell_type": "code",
   "execution_count": 29,
   "id": "b2c50497",
   "metadata": {},
   "outputs": [
    {
     "name": "stdout",
     "output_type": "stream",
     "text": [
      "*** RandomForestRegressor() Model Output Summary ***\n",
      "\n",
      "\n",
      "RMSE_scores Parameters: Scores, Mean and Standard Deviation\n",
      "\n",
      "\n",
      "1) Scores:  [2.91903795 2.9062953  3.13324479 2.52920333 3.62505493 2.6896593\n",
      " 4.78268543 3.28438552 3.47041866 3.09987356]\n",
      " \n",
      "2) Mean:  3.2439858779751796\n",
      " \n",
      "3) Standard Deviation:  0.6030392981248921\n"
     ]
    }
   ],
   "source": [
    "def scores_function(scores):\n",
    "    print(\"***\",model,\"Model Output Summary ***\")\n",
    "    print(\"\\n\")\n",
    "    print(\"RMSE_scores Parameters: Scores, Mean and Standard Deviation\")\n",
    "    print(\"\\n\")\n",
    "    print(\"1) Scores: \", scores)\n",
    "    print(\" \")\n",
    "    print(\"2) Mean: \", scores.mean())\n",
    "    print(\" \")\n",
    "    print(\"3) Standard Deviation: \", scores.std())\n",
    "\n",
    "scores_function(RMSE_scores)"
   ]
  },
  {
   "cell_type": "markdown",
   "id": "5a13c0f1",
   "metadata": {},
   "source": [
    "### 8. Selection of Final Model"
   ]
  },
  {
   "cell_type": "code",
   "execution_count": 30,
   "id": "ef9897b2",
   "metadata": {},
   "outputs": [
    {
     "name": "stdout",
     "output_type": "stream",
     "text": [
      "*** RandomForestRegressor() Model Output Summary ***\n",
      "\n",
      "\n",
      "RMSE_scores Parameters: Scores, Mean and Standard Deviation\n",
      "\n",
      "\n",
      "1) Scores:  [2.91903795 2.9062953  3.13324479 2.52920333 3.62505493 2.6896593\n",
      " 4.78268543 3.28438552 3.47041866 3.09987356]\n",
      " \n",
      "2) Mean:  3.2439858779751796\n",
      " \n",
      "3) Standard Deviation:  0.6030392981248921\n"
     ]
    }
   ],
   "source": [
    "def scores_function(scores):\n",
    "    print(\"***\",model,\"Model Output Summary ***\")\n",
    "    print(\"\\n\")\n",
    "    print(\"RMSE_scores Parameters: Scores, Mean and Standard Deviation\")\n",
    "    print(\"\\n\")\n",
    "    print(\"1) Scores: \", scores)\n",
    "    print(\" \")\n",
    "    print(\"2) Mean: \", scores.mean())\n",
    "    print(\" \")\n",
    "    print(\"3) Standard Deviation: \", scores.std())\n",
    "\n",
    "scores_function(RMSE_scores)"
   ]
  },
  {
   "cell_type": "markdown",
   "id": "77f107bc",
   "metadata": {},
   "source": [
    "#### Random Forest Regressor depicts best Output Summary among 3 selected models.\n",
    "#### Mean & Standard Deviation or Error of Random Forest Regressor is lower than other 2 models."
   ]
  },
  {
   "cell_type": "markdown",
   "id": "fcb64c94",
   "metadata": {},
   "source": [
    "### 9. Model Testing"
   ]
  },
  {
   "cell_type": "code",
   "execution_count": 31,
   "id": "4ab8a3a5",
   "metadata": {},
   "outputs": [],
   "source": [
    "X_test=strat_test_set.drop(\"MEDV\", axis=1)\n",
    "Y_test=strat_test_set[\"MEDV\"].copy()"
   ]
  },
  {
   "cell_type": "code",
   "execution_count": 32,
   "id": "0929988e",
   "metadata": {},
   "outputs": [],
   "source": [
    "X_test_prepared=my_pipeline.transform(X_test) #giving the test dataset to our trained model for testing.\n",
    "final_predictions=model.predict(X_test_prepared)"
   ]
  },
  {
   "cell_type": "code",
   "execution_count": 33,
   "id": "25d038ce",
   "metadata": {},
   "outputs": [
    {
     "name": "stdout",
     "output_type": "stream",
     "text": [
      "Final MSE: 8.90517632352941\n"
     ]
    }
   ],
   "source": [
    "final_MSE=mean_squared_error(Y_test, final_predictions) #Mean Squared Error\n",
    "print(\"Final MSE:\", final_MSE)"
   ]
  },
  {
   "cell_type": "code",
   "execution_count": 34,
   "id": "6aa34e2c",
   "metadata": {},
   "outputs": [
    {
     "name": "stdout",
     "output_type": "stream",
     "text": [
      "Final RMSE: 2.9841542057221857\n"
     ]
    }
   ],
   "source": [
    "final_RMSE=np.sqrt(final_MSE)  #Root Mean Squared Error\n",
    "print(\"Final RMSE:\", final_RMSE)"
   ]
  },
  {
   "cell_type": "markdown",
   "id": "62c2213b",
   "metadata": {},
   "source": [
    "### Scatter Diagram: Predicted Prices  V/s   Actual Prices\n",
    "\n",
    "### Good Positive Correlation between trained model's Predicted Prices & Actual Prices"
   ]
  },
  {
   "cell_type": "code",
   "execution_count": 35,
   "id": "fa0c584c",
   "metadata": {},
   "outputs": [
    {
     "data": {
      "text/plain": [
       "Text(0, 0.5, 'Predicted Prices')"
      ]
     },
     "execution_count": 35,
     "metadata": {},
     "output_type": "execute_result"
    },
    {
     "data": {
      "image/png": "[encoded data removed]",
      "text/plain": [
       "<Figure size 432x288 with 1 Axes>"
      ]
     },
     "metadata": {
      "needs_background": "light"
     },
     "output_type": "display_data"
    }
   ],
   "source": [
    "plt.scatter(Y_test, final_predictions, linewidths=0.5, edgecolors=\"orange\")\n",
    "plt.xlabel(\"Actual Prices\")\n",
    "plt.ylabel(\"Predicted Prices\")"
   ]
  }
 ],
 "metadata": {
  "kernelspec": {
   "display_name": "Python 3 (ipykernel)",
   "language": "python",
   "name": "python3"
  },
  "language_info": {
   "codemirror_mode": {
    "name": "ipython",
    "version": 3
   },
   "file_extension": ".py",
   "mimetype": "text/x-python",
   "name": "python",
   "nbconvert_exporter": "python",
   "pygments_lexer": "ipython3",
   "version": "3.9.12"
  }
 },
 "nbformat": 4,
 "nbformat_minor": 5
}
